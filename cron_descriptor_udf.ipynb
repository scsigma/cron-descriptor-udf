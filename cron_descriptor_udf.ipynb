{
 "cells": [
  {
   "attachments": {},
   "cell_type": "markdown",
   "metadata": {},
   "source": [
    "# Convert Crons to Human Readable strings\n",
    "\n",
    "cron-descriptor python library: https://pypi.org/project/cron-descriptor/\n",
    "\n",
    "\n",
    "## Goal: Create a Snowpark UDF that converts chron spec to human readable string that can be called in Sigma\n",
    "\n",
    "_____________\n",
    "\n",
    "\n",
    "#### Precursor Steps:\n",
    "\n",
    "1. Follow along with the quickstarts: https://quickstarts.sigmacomputing.com/guide/snowflake_snowpark_udf_python/index.html?index=..%2F..index#0\n",
    "2. Most importantly, pay attention to the virtual environment section.\n",
    "3. ```pip install cron-descriptor```\n",
    "\n",
    "\n",
    "_____________"
   ]
  },
  {
   "attachments": {},
   "cell_type": "markdown",
   "metadata": {},
   "source": [
    "### 1. Enter username and password for cxa"
   ]
  },
  {
   "cell_type": "code",
   "execution_count": 67,
   "metadata": {},
   "outputs": [],
   "source": [
    "# Change all\n",
    "snowflake_account = \"account\" # ex: \"cxa...\"\n",
    "dev_username = \"my username\"\n",
    "password = \"my password\"\n",
    "role = \"my role\"\n",
    "warehouse = \"my warehouse\"\n",
    "database = \"my db\"\n",
    "schema = \"my schema\""
   ]
  },
  {
   "attachments": {},
   "cell_type": "markdown",
   "metadata": {},
   "source": [
    "#### 2. Configure Snowpark connection"
   ]
  },
  {
   "cell_type": "code",
   "execution_count": 23,
   "metadata": {},
   "outputs": [],
   "source": [
    "import numpy as np\n",
    "import pandas as pd\n",
    "\n",
    "from snowflake.snowpark import Session\n",
    "import snowflake.snowpark.functions as F\n",
    "import snowflake.snowpark.types as T\n",
    "\n",
    "connection_parameters = {\n",
    "    \"account\": snowflake_account,\n",
    "    \"user\": dev_username,\n",
    "    \"password\": password,\n",
    "    \"role\": role,  # optional\n",
    "    \"warehouse\": warehouse,  # optional\n",
    "    \"database\": database,  # optional\n",
    "    \"schema\": schema,  # optional\n",
    "}  \n",
    "\n",
    "session = Session.builder.configs(connection_parameters).create()"
   ]
  },
  {
   "attachments": {},
   "cell_type": "markdown",
   "metadata": {},
   "source": [
    "#### 3. Create a UDF that contains the actual logic. Grant all on the function for the correct role so it can be used in Sigma."
   ]
  },
  {
   "cell_type": "code",
   "execution_count": 66,
   "metadata": {},
   "outputs": [
    {
     "name": "stderr",
     "output_type": "stream",
     "text": [
      "The version of package cron-descriptor in the local environment is 1.2.35, which does not fit the criteria for the requirement cron-descriptor. Your UDF might not work when the package version is different between the server and your local environment\n"
     ]
    },
    {
     "data": {
      "text/plain": [
       "[Row(status='Statement executed successfully.')]"
      ]
     },
     "execution_count": 66,
     "metadata": {},
     "output_type": "execute_result"
    }
   ],
   "source": [
    "# Register this as vectorized function that we can reference in Sigma\n",
    "\n",
    "def cron_descriptor_udf(cron_input: str) -> dict:\n",
    "\n",
    "    from cron_descriptor import get_description\n",
    "    return {'cron_input': cron_input, 'cron_readable': get_description(cron_input)}\n",
    "\n",
    "\n",
    "# Register Vectorized UDF\n",
    "cron_descriptor_udf = session.udf.register(func=cron_descriptor_udf,\n",
    "                                                        name=\"CRON_DESCRIPTOR_UDF\",\n",
    "                                                        stage_location='@DEMENG_ML_MODELS', # can point to any stage in the schema, doesn't mattter which but needs to be included\n",
    "                                                        input_types=[T.StringType()],\n",
    "                                                        return_type=T.VariantType(),\n",
    "                                                        replace=True,\n",
    "                                                        is_permanent=True,\n",
    "                                                        packages=['pandas', 'cron-descriptor'],\n",
    "                                                        max_batch_size=1000,\n",
    "                                                        session=session)\n",
    "\n",
    "query = session.sql('grant all on function CRON_DESCRIPTOR_UDF(varchar) to role PAPERCRANE')\n",
    "query.collect()"
   ]
  },
  {
   "cell_type": "code",
   "execution_count": null,
   "metadata": {},
   "outputs": [],
   "source": []
  },
  {
   "cell_type": "code",
   "execution_count": null,
   "metadata": {},
   "outputs": [],
   "source": []
  }
 ],
 "metadata": {
  "kernelspec": {
   "display_name": "py38_env_snowpark",
   "language": "python",
   "name": "python3"
  },
  "language_info": {
   "codemirror_mode": {
    "name": "ipython",
    "version": 3
   },
   "file_extension": ".py",
   "mimetype": "text/x-python",
   "name": "python",
   "nbconvert_exporter": "python",
   "pygments_lexer": "ipython3",
   "version": "3.8.15"
  },
  "orig_nbformat": 4
 },
 "nbformat": 4,
 "nbformat_minor": 2
}
