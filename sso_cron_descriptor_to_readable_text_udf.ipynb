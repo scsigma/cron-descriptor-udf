{
 "cells": [
  {
   "attachments": {},
   "cell_type": "markdown",
   "metadata": {},
   "source": [
    "# SSO + Snowpark Tester\n",
    "\n",
    "### To sign into snowpark, you need to have login info. but with sos, we have sso so i need to try logging in that way"
   ]
  },
  {
   "cell_type": "code",
   "execution_count": 1,
   "metadata": {},
   "outputs": [
    {
     "name": "stdout",
     "output_type": "stream",
     "text": [
      "Initiating login request with your identity provider. A browser window should have opened for you to complete the login. If you can't see it, check existing browser windows, or your OS settings. Press CTRL+C to abort and try again...\n"
     ]
    }
   ],
   "source": [
    "import numpy as np\n",
    "import pandas as pd\n",
    "import json\n",
    "\n",
    "from snowflake.snowpark import Session\n",
    "import snowflake.snowpark.functions as F\n",
    "import snowflake.snowpark.types as T\n",
    "\n",
    "# Use pathlib to get the current working directory, \n",
    "# then cd.. into the parent folder where the snowpark_credientials.json\n",
    "# is located.\n",
    "from pathlib import Path\n",
    "file_path_split = str(Path.cwd()).split(\"/\")\n",
    "parent_folder = \"/\".join(file_path_split)\n",
    "\n",
    "with open(parent_folder + \"/sso_credentials.json\", \"r\") as f:\n",
    "    connection_parameters = json.load(f)\n",
    "\n",
    "session = Session.builder.configs(connection_parameters).create()"
   ]
  },
  {
   "cell_type": "code",
   "execution_count": 21,
   "metadata": {},
   "outputs": [
    {
     "name": "stderr",
     "output_type": "stream",
     "text": [
      "The version of package cron-descriptor in the local environment is 1.2.35, which does not fit the criteria for the requirement cron-descriptor. Your UDF might not work when the package version is different between the server and your local environment\n"
     ]
    }
   ],
   "source": [
    "# Register this as vectorized function that we can reference in Sigma\n",
    "\n",
    "def cron_descriptor_to_readable_text_udf(cron_input: str) -> dict:\n",
    "\n",
    "    from cron_descriptor import get_description\n",
    "    desc = get_description(cron_input)\n",
    "\n",
    "    if desc.find(\",\") == -1:\n",
    "        desc = desc + \", daily\"\n",
    "\n",
    "    return {'cron_input': cron_input, 'cron_readable': desc}\n",
    "\n",
    "\n",
    "# Register Vectorized UDF\n",
    "cron_descriptor_to_readable_text_udf = session.udf.register(func=cron_descriptor_to_readable_text_udf,\n",
    "                                                        name=\"CRON_DESCRIPTOR_TO_READABLE_TEXT_UDF\",\n",
    "                                                        stage_location='@MODELS', # can point to any stage in the schema, doesn't mattter which but needs to be included\n",
    "                                                        input_types=[T.StringType()],\n",
    "                                                        return_type=T.VariantType(),\n",
    "                                                        replace=True,\n",
    "                                                        is_permanent=True,\n",
    "                                                        packages=['pandas', 'cron-descriptor'],\n",
    "                                                        max_batch_size=1000,\n",
    "                                                        session=session)\n",
    "\n",
    "session.close()"
   ]
  },
  {
   "cell_type": "code",
   "execution_count": null,
   "metadata": {},
   "outputs": [],
   "source": []
  }
 ],
 "metadata": {
  "kernelspec": {
   "display_name": "py38_env_snowpark",
   "language": "python",
   "name": "python3"
  },
  "language_info": {
   "codemirror_mode": {
    "name": "ipython",
    "version": 3
   },
   "file_extension": ".py",
   "mimetype": "text/x-python",
   "name": "python",
   "nbconvert_exporter": "python",
   "pygments_lexer": "ipython3",
   "version": "3.8.15"
  },
  "orig_nbformat": 4
 },
 "nbformat": 4,
 "nbformat_minor": 2
}
